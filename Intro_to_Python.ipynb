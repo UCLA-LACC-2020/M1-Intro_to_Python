{
  "nbformat": 4,
  "nbformat_minor": 0,
  "metadata": {
    "colab": {
      "name": "Intro to Python",
      "provenance": []
    },
    "kernelspec": {
      "name": "python3",
      "display_name": "Python 3"
    }
  },
  "cells": [
    {
      "cell_type": "markdown",
      "metadata": {
        "id": "akcaY4OnMWSu",
        "colab_type": "text"
      },
      "source": [
        "# Introduction\n",
        "\n",
        "Welcome to this short tutorial of Python! In this tutorial, we are going to use some basic construsts in Python to build a really simple Tic Tac Toe game. This tutorial is designed as a first step for you to computer programming. We will cover the following concepts along the way:\n",
        "\n",
        "1.   Variables and Types\n",
        "2.   Control-Flow\n",
        "3.   Basic data structures\n",
        "4.   Basic I/O operations\n",
        "\n",
        "After this tutorial, we hope you will be able to use these basic building block to build more creative programs. In addition, computer programming is waaaay more than just these. So we encourage you to continue the journey and discover more cool stuffs about programming. \n"
      ]
    },
    {
      "cell_type": "markdown",
      "metadata": {
        "id": "kjZ_zP3TzST6",
        "colab_type": "text"
      },
      "source": [
        "# The Very First Step: Hello World\n",
        "\n",
        "It's sort of like a tradition in programming, we always print a \"hello world\" text on screen as our first program. \n",
        "\n",
        "Give it a try! Press the \"Run\" button"
      ]
    },
    {
      "cell_type": "code",
      "metadata": {
        "id": "JrftjfSS39H0",
        "colab_type": "code",
        "colab": {}
      },
      "source": [
        "print(\"Hello, World!\")\n"
      ],
      "execution_count": null,
      "outputs": []
    },
    {
      "cell_type": "markdown",
      "metadata": {
        "id": "dC-95rBfz7GD",
        "colab_type": "text"
      },
      "source": [
        "A little bit of explanations here. \n",
        "\n",
        "`print` is a **function** in Python that let you output text. \n",
        "In this case, we wish to print the text \"Hello, World\" to screen. So we simply put it in the parenthesis that follows the function name. `print` can be very handy in Python programming. It can also print out other stuffs such as numbers and lists. That is why we use `print` a lot during the debugging process, it can directly show us the program state at the time of execution. We will be talking more about functions later. "
      ]
    },
    {
      "cell_type": "markdown",
      "metadata": {
        "id": "vBkQneLP1eK9",
        "colab_type": "text"
      },
      "source": [
        "### Exercise 0: Using `print`\n",
        "\n",
        "Since eventually we want to build a Tic Tac Toe game, let's print out a Tic Tac Toe board first. So it would be a 3x3 grid like the following:\n",
        "\n",
        "```\n",
        " _ _ _\n",
        "|_|_|_|\n",
        "|_|_|_|\n",
        "|_|_|_|\n",
        "```\n",
        "\n",
        "Hint: \"\\n\" means new line \n",
        "\n",
        "\n",
        "\n"
      ]
    },
    {
      "cell_type": "code",
      "metadata": {
        "id": "Liyu8j3h13es",
        "colab_type": "code",
        "colab": {}
      },
      "source": [
        "# Add your code here"
      ],
      "execution_count": null,
      "outputs": []
    },
    {
      "cell_type": "markdown",
      "metadata": {
        "id": "DwfXKY7Z3xaF",
        "colab_type": "text"
      },
      "source": [
        "# Variables and Types\n",
        "\n",
        "So far we only have a program that print a board to the screen, not so exciting. What we really want here is a board that can change as the two players making their moves. How should we do that? \n",
        "\n",
        "We need to store the state of the board in memory somehow. So the first question is, how should we represent a board? "
      ]
    },
    {
      "cell_type": "markdown",
      "metadata": {
        "id": "4U91Y7y_6Oml",
        "colab_type": "text"
      },
      "source": [
        "### Exercise 1: How can we represent a game board?\n",
        "List several ways you can think of to represent the game board given what we just learned about variables and types (besides the one we decide to use in the next excercises). Be creative! Write your answers below."
      ]
    },
    {
      "cell_type": "markdown",
      "metadata": {
        "id": "kZqSJIpH6z5r",
        "colab_type": "text"
      },
      "source": [
        ""
      ]
    },
    {
      "cell_type": "markdown",
      "metadata": {
        "id": "7xmYNsky87PJ",
        "colab_type": "text"
      },
      "source": [
        "### Exercise 2: 2D List\n",
        "\n",
        "For simplicity, we choose to use 2D list to represent our game board. Can you make a variable named \"board\" whose value is a 2D list?"
      ]
    },
    {
      "cell_type": "code",
      "metadata": {
        "id": "PXsZK2Ma904f",
        "colab_type": "code",
        "colab": {}
      },
      "source": [
        "# Add your code here"
      ],
      "execution_count": null,
      "outputs": []
    },
    {
      "cell_type": "markdown",
      "metadata": {
        "id": "RWv0leuOCGlD",
        "colab_type": "text"
      },
      "source": [
        "So how can we refer to a specific location on the game board when we are actually playing the game? In this case, since we have a 2D list, the location would be represented using a 2D coordinate, like `[2][0]`"
      ]
    },
    {
      "cell_type": "markdown",
      "metadata": {
        "id": "GOLAYm2BCaki",
        "colab_type": "text"
      },
      "source": [
        "### Exercise 3: Adding an X to the board\n",
        "\n",
        "Add an X to your list at location `[2][0]` and print it out to the screen."
      ]
    },
    {
      "cell_type": "code",
      "metadata": {
        "id": "KJVu3Y6uC08s",
        "colab_type": "code",
        "colab": {}
      },
      "source": [
        ""
      ],
      "execution_count": null,
      "outputs": []
    },
    {
      "cell_type": "markdown",
      "metadata": {
        "id": "ntwK7Gc8D2v3",
        "colab_type": "text"
      },
      "source": [
        "# A Simpler way to print: Using `for` loops\n",
        "\n",
        "You probably have already noticed how tedious it is to manually print out every single cell of the game board by repeatedly using the `print` function. Here is a shortcut, using `for` loops. \n",
        "\n",
        "### Exercise 4: Loops\n",
        "\n",
        "Given what we have learned so far, print out the game board using `for`"
      ]
    },
    {
      "cell_type": "code",
      "metadata": {
        "id": "ncrq1kwnEsj6",
        "colab_type": "code",
        "colab": {}
      },
      "source": [
        ""
      ],
      "execution_count": null,
      "outputs": []
    },
    {
      "cell_type": "markdown",
      "metadata": {
        "id": "bXq18Df6AhOs",
        "colab_type": "text"
      },
      "source": [
        "# Interacting with the outside world: I/O\n",
        "\n",
        "`print` is just one function that we use to let computer to output information to us. But how do we input information? It's the `input` function that enable us to do that"
      ]
    },
    {
      "cell_type": "markdown",
      "metadata": {
        "id": "BbjipBr6BYzD",
        "colab_type": "text"
      },
      "source": [
        "### Exercise 5: Input\n",
        "\n",
        "Use the `input` function to get input from the player (in this case, it'd be you) and add that to your 2D list.\n",
        "\n",
        "For simplicity, you can ask the user to enter two numbers representing the location"
      ]
    },
    {
      "cell_type": "code",
      "metadata": {
        "id": "jj5Mcn3zB6L2",
        "colab_type": "code",
        "colab": {}
      },
      "source": [
        ""
      ],
      "execution_count": null,
      "outputs": []
    },
    {
      "cell_type": "markdown",
      "metadata": {
        "id": "cMKbalWVE8fE",
        "colab_type": "text"
      },
      "source": [
        "# `if` Checks\n",
        "\n",
        "Now, given a board with players' input on it, how do we decide how the game ends and who wins? The Tic Tac Toe game requires whoever occupies a row, a column, or a diagnol, of the board is the winner. How can we check that?\n",
        "\n",
        "### Exercise 6: Check who's the winner\n",
        "Write a function that checks who the winner is given a board state. If there is no winner yet, print out \"no winner yet\". If there is a tie , print out \"tie\""
      ]
    },
    {
      "cell_type": "code",
      "metadata": {
        "id": "XjNAnvghGiML",
        "colab_type": "code",
        "colab": {}
      },
      "source": [
        ""
      ],
      "execution_count": null,
      "outputs": []
    },
    {
      "cell_type": "markdown",
      "metadata": {
        "id": "QLcdOoq_GkrW",
        "colab_type": "text"
      },
      "source": [
        "# The Game Loop: `while` loop\n",
        "\n",
        "We now have all of the building blocks we need finish this program. A common pattern for an interactive game is like the following:\n",
        "\n",
        "1. initialize game state\n",
        "2. ask a player for input\n",
        "3. check game state to see if there is a winner\n",
        "   - if yes: end the game and announce the winner\n",
        "   - if not: go to step 2 to ask input from another player\n",
        "\n",
        "We call this a game loop. From the name, we know we should be using a `while` loop for the overall structure. \n",
        "\n",
        "### Exercise 7: Putting everything together\n",
        "write a program to implement the game loop described above and use the code we wrote before to finish implementing the game.\n"
      ]
    },
    {
      "cell_type": "code",
      "metadata": {
        "id": "cJDY1TG4IWSL",
        "colab_type": "code",
        "colab": {}
      },
      "source": [
        ""
      ],
      "execution_count": null,
      "outputs": []
    },
    {
      "cell_type": "markdown",
      "metadata": {
        "id": "adomo0dbJlE7",
        "colab_type": "text"
      },
      "source": [
        "# What to do after this: Advanced Challenges\n",
        "\n",
        "There are still a lot of things you can do to improve this small program and make it more like a \"game\". Unfortunately, due to the short amount of time we are not able to cover more things. But we encourage you to try to solve these challenges and continue the fun of programming\n",
        "\n",
        "1. Adding a game AI: How about letting computer to be one of the player? \n",
        "2. Making the game AI smarter: what's the best strategy of playing this game so that the computer always wins?\n",
        "3. Adding a GUI to make the game looks cooler (there are GUI packages available online that you can directly use to manipulate pixels on the screen) \n",
        "4. Implement an Ultimate Tic Tac Toe game: https://en.wikipedia.org/wiki/Ultimate_tic-tac-toe"
      ]
    }
  ]
}